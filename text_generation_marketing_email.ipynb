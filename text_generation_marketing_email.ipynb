{
  "nbformat": 4,
  "nbformat_minor": 0,
  "metadata": {
    "colab": {
      "private_outputs": true,
      "provenance": [],
      "authorship_tag": "ABX9TyN2W8YLeCx2Q9BsleQc/ujS",
      "include_colab_link": true
    },
    "kernelspec": {
      "name": "python3",
      "display_name": "Python 3"
    },
    "language_info": {
      "name": "python"
    }
  },
  "cells": [
    {
      "cell_type": "markdown",
      "metadata": {
        "id": "view-in-github",
        "colab_type": "text"
      },
      "source": [
        "<a href=\"https://colab.research.google.com/github/gethorizon-ai/horizon-examples/blob/main/text_generation_marketing_email.ipynb\" target=\"_parent\"><img src=\"https://colab.research.google.com/assets/colab-badge.svg\" alt=\"Open In Colab\"/></a>"
      ]
    },
    {
      "cell_type": "markdown",
      "source": [
        "# Text Generation Marketing Email\n",
        "This notebook demonstrates how to use Horizon AI to generate marketing emails.\n"
      ],
      "metadata": {
        "id": "pTm6tidfCAP0"
      }
    },
    {
      "cell_type": "markdown",
      "source": [
        "## Step 1: Create a Horizon account and install package\n",
        "If you haven't already, create an account at [Horizon's website](https://www.gethorizon.ai/). Complete the email verification step!"
      ],
      "metadata": {
        "id": "XSHgM6NZCEkH"
      }
    },
    {
      "cell_type": "code",
      "execution_count": null,
      "metadata": {
        "id": "Oo5EaT72_lvl"
      },
      "outputs": [],
      "source": [
        "# Install the Horizon package\n",
        "%pip install horizonai"
      ]
    },
    {
      "cell_type": "markdown",
      "source": [
        "## Step 2: Get your Horizon API key"
      ],
      "metadata": {
        "id": "Bv33skuNCHQx"
      }
    },
    {
      "cell_type": "code",
      "source": [
        "!horizonai user api-key"
      ],
      "metadata": {
        "id": "xbLnvfiW_rfg"
      },
      "execution_count": null,
      "outputs": []
    },
    {
      "cell_type": "markdown",
      "source": [
        "## Step 3: Create a project"
      ],
      "metadata": {
        "id": "V_7p4X-ZCkiQ"
      }
    },
    {
      "cell_type": "code",
      "source": [
        "!horizonai project create"
      ],
      "metadata": {
        "id": "rEsUB_KFCo7N"
      },
      "execution_count": null,
      "outputs": []
    },
    {
      "cell_type": "markdown",
      "source": [
        "## Step 3: Create a task"
      ],
      "metadata": {
        "id": "43ZbE4EiCvTj"
      }
    },
    {
      "cell_type": "code",
      "source": [
        "# give google collab access to drive to access evaluation dataset\n",
        "from google.colab import drive\n",
        "drive.mount('/content/drive')\n"
      ],
      "metadata": {
        "id": "Yt0MQ0cHDUhT"
      },
      "execution_count": null,
      "outputs": []
    },
    {
      "cell_type": "code",
      "source": [
        "!horizonai task generate"
      ],
      "metadata": {
        "id": "xT0Ve4jNC3rg"
      },
      "execution_count": null,
      "outputs": []
    },
    {
      "cell_type": "markdown",
      "source": [
        "## Step 4: Deploy the Task"
      ],
      "metadata": {
        "id": "d7KTRjBWEKMF"
      }
    },
    {
      "cell_type": "code",
      "source": [
        "!horizonai task deploy"
      ],
      "metadata": {
        "id": "jeRkO0lCELdw"
      },
      "execution_count": null,
      "outputs": []
    }
  ]
}